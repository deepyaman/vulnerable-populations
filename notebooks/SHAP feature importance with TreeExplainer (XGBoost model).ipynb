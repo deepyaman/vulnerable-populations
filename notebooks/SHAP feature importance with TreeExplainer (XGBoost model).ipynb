{
 "cells": [
  {
   "cell_type": "markdown",
   "metadata": {},
   "source": [
    "# Load the master table"
   ]
  },
  {
   "cell_type": "code",
   "execution_count": 1,
   "metadata": {},
   "outputs": [],
   "source": [
    "from vulnerable_populations.pipeline import Granularity\n",
    "\n",
    "granularity = Granularity.COUNTY_LEVEL"
   ]
  },
  {
   "cell_type": "code",
   "execution_count": 2,
   "metadata": {
    "scrolled": true
   },
   "outputs": [
    {
     "name": "stdout",
     "output_type": "stream",
     "text": [
      "2020-06-16 01:16:10,888 - kedro.io.data_catalog - INFO - Loading data from `mod_covid_19_county_level_master` (ParquetDataSet)...\n"
     ]
    },
    {
     "data": {
      "text/html": [
       "<div>\n",
       "<style scoped>\n",
       "    .dataframe tbody tr th:only-of-type {\n",
       "        vertical-align: middle;\n",
       "    }\n",
       "\n",
       "    .dataframe tbody tr th {\n",
       "        vertical-align: top;\n",
       "    }\n",
       "\n",
       "    .dataframe thead th {\n",
       "        text-align: right;\n",
       "    }\n",
       "</style>\n",
       "<table border=\"1\" class=\"dataframe\">\n",
       "  <thead>\n",
       "    <tr style=\"text-align: right;\">\n",
       "      <th></th>\n",
       "      <th>Insurance Type (Relevant for Clinical Data from Claims Only)</th>\n",
       "      <th>FIPS County Code</th>\n",
       "      <th>County</th>\n",
       "      <th>State</th>\n",
       "      <th>State Code</th>\n",
       "      <th>Population</th>\n",
       "      <th>Deaths from COVID-19</th>\n",
       "      <th>Cases of COVID-19</th>\n",
       "      <th>Deaths from Covid 19 Per 100K Population</th>\n",
       "      <th>Cases of Covid 19 Per 100K Population</th>\n",
       "      <th>...</th>\n",
       "      <th>Children on Free or Reduced Lunch</th>\n",
       "      <th>American Indian or Alaska Native</th>\n",
       "      <th>Asian</th>\n",
       "      <th>Black or African American</th>\n",
       "      <th>Hispanic</th>\n",
       "      <th>Native Hawaiian or Other Pacific Islander</th>\n",
       "      <th>Non-Hispanic White</th>\n",
       "      <th>Other race</th>\n",
       "      <th>2 or more races</th>\n",
       "      <th>Racial / Ethnic Minority</th>\n",
       "    </tr>\n",
       "  </thead>\n",
       "  <tbody>\n",
       "    <tr>\n",
       "      <th>0</th>\n",
       "      <td>All</td>\n",
       "      <td>49055</td>\n",
       "      <td>Wayne</td>\n",
       "      <td>Utah</td>\n",
       "      <td>UT</td>\n",
       "      <td>2690.0</td>\n",
       "      <td>0.0</td>\n",
       "      <td>0.0</td>\n",
       "      <td>0.0</td>\n",
       "      <td>0.0</td>\n",
       "      <td>...</td>\n",
       "      <td>0.500</td>\n",
       "      <td>0.003</td>\n",
       "      <td>0.005</td>\n",
       "      <td>0.003</td>\n",
       "      <td>0.059</td>\n",
       "      <td>0.013</td>\n",
       "      <td>0.912</td>\n",
       "      <td>0.000</td>\n",
       "      <td>0.006</td>\n",
       "      <td>0.083</td>\n",
       "    </tr>\n",
       "    <tr>\n",
       "      <th>1</th>\n",
       "      <td>All</td>\n",
       "      <td>21091</td>\n",
       "      <td>Hancock</td>\n",
       "      <td>Kentucky</td>\n",
       "      <td>KY</td>\n",
       "      <td>8758.0</td>\n",
       "      <td>0.0</td>\n",
       "      <td>7.0</td>\n",
       "      <td>0.0</td>\n",
       "      <td>79.0</td>\n",
       "      <td>...</td>\n",
       "      <td>0.510</td>\n",
       "      <td>0.001</td>\n",
       "      <td>0.007</td>\n",
       "      <td>0.009</td>\n",
       "      <td>0.015</td>\n",
       "      <td>0.000</td>\n",
       "      <td>0.956</td>\n",
       "      <td>0.000</td>\n",
       "      <td>0.011</td>\n",
       "      <td>0.033</td>\n",
       "    </tr>\n",
       "    <tr>\n",
       "      <th>2</th>\n",
       "      <td>All</td>\n",
       "      <td>27077</td>\n",
       "      <td>Lake of the Woods</td>\n",
       "      <td>Minnesota</td>\n",
       "      <td>MN</td>\n",
       "      <td>3758.0</td>\n",
       "      <td>0.0</td>\n",
       "      <td>0.0</td>\n",
       "      <td>0.0</td>\n",
       "      <td>0.0</td>\n",
       "      <td>...</td>\n",
       "      <td>0.532</td>\n",
       "      <td>0.003</td>\n",
       "      <td>0.008</td>\n",
       "      <td>0.000</td>\n",
       "      <td>0.017</td>\n",
       "      <td>0.000</td>\n",
       "      <td>0.930</td>\n",
       "      <td>0.000</td>\n",
       "      <td>0.041</td>\n",
       "      <td>0.028</td>\n",
       "    </tr>\n",
       "    <tr>\n",
       "      <th>3</th>\n",
       "      <td>All</td>\n",
       "      <td>19129</td>\n",
       "      <td>Mills</td>\n",
       "      <td>Iowa</td>\n",
       "      <td>IA</td>\n",
       "      <td>15063.0</td>\n",
       "      <td>0.0</td>\n",
       "      <td>22.0</td>\n",
       "      <td>0.0</td>\n",
       "      <td>146.0</td>\n",
       "      <td>...</td>\n",
       "      <td>0.347</td>\n",
       "      <td>0.007</td>\n",
       "      <td>0.003</td>\n",
       "      <td>0.009</td>\n",
       "      <td>0.030</td>\n",
       "      <td>0.000</td>\n",
       "      <td>0.943</td>\n",
       "      <td>0.000</td>\n",
       "      <td>0.008</td>\n",
       "      <td>0.049</td>\n",
       "    </tr>\n",
       "    <tr>\n",
       "      <th>4</th>\n",
       "      <td>All</td>\n",
       "      <td>49033</td>\n",
       "      <td>Rich</td>\n",
       "      <td>Utah</td>\n",
       "      <td>UT</td>\n",
       "      <td>2464.0</td>\n",
       "      <td>0.0</td>\n",
       "      <td>0.0</td>\n",
       "      <td>0.0</td>\n",
       "      <td>0.0</td>\n",
       "      <td>...</td>\n",
       "      <td>0.396</td>\n",
       "      <td>0.000</td>\n",
       "      <td>0.000</td>\n",
       "      <td>0.000</td>\n",
       "      <td>0.109</td>\n",
       "      <td>0.000</td>\n",
       "      <td>0.865</td>\n",
       "      <td>0.026</td>\n",
       "      <td>0.000</td>\n",
       "      <td>0.109</td>\n",
       "    </tr>\n",
       "    <tr>\n",
       "      <th>...</th>\n",
       "      <td>...</td>\n",
       "      <td>...</td>\n",
       "      <td>...</td>\n",
       "      <td>...</td>\n",
       "      <td>...</td>\n",
       "      <td>...</td>\n",
       "      <td>...</td>\n",
       "      <td>...</td>\n",
       "      <td>...</td>\n",
       "      <td>...</td>\n",
       "      <td>...</td>\n",
       "      <td>...</td>\n",
       "      <td>...</td>\n",
       "      <td>...</td>\n",
       "      <td>...</td>\n",
       "      <td>...</td>\n",
       "      <td>...</td>\n",
       "      <td>...</td>\n",
       "      <td>...</td>\n",
       "      <td>...</td>\n",
       "      <td>...</td>\n",
       "    </tr>\n",
       "    <tr>\n",
       "      <th>3133</th>\n",
       "      <td>All</td>\n",
       "      <td>22007</td>\n",
       "      <td>Assumption Parish</td>\n",
       "      <td>Louisiana</td>\n",
       "      <td>LA</td>\n",
       "      <td>22300.0</td>\n",
       "      <td>14.0</td>\n",
       "      <td>258.0</td>\n",
       "      <td>62.0</td>\n",
       "      <td>1156.0</td>\n",
       "      <td>...</td>\n",
       "      <td>0.681</td>\n",
       "      <td>0.004</td>\n",
       "      <td>0.002</td>\n",
       "      <td>0.299</td>\n",
       "      <td>0.029</td>\n",
       "      <td>0.000</td>\n",
       "      <td>0.656</td>\n",
       "      <td>0.000</td>\n",
       "      <td>0.011</td>\n",
       "      <td>0.333</td>\n",
       "    </tr>\n",
       "    <tr>\n",
       "      <th>3134</th>\n",
       "      <td>All</td>\n",
       "      <td>27093</td>\n",
       "      <td>Meeker</td>\n",
       "      <td>Minnesota</td>\n",
       "      <td>MN</td>\n",
       "      <td>23141.0</td>\n",
       "      <td>1.0</td>\n",
       "      <td>50.0</td>\n",
       "      <td>4.0</td>\n",
       "      <td>216.0</td>\n",
       "      <td>...</td>\n",
       "      <td>0.370</td>\n",
       "      <td>0.001</td>\n",
       "      <td>0.003</td>\n",
       "      <td>0.006</td>\n",
       "      <td>0.038</td>\n",
       "      <td>0.000</td>\n",
       "      <td>0.942</td>\n",
       "      <td>0.001</td>\n",
       "      <td>0.010</td>\n",
       "      <td>0.048</td>\n",
       "    </tr>\n",
       "    <tr>\n",
       "      <th>3135</th>\n",
       "      <td>All</td>\n",
       "      <td>37033</td>\n",
       "      <td>Caswell</td>\n",
       "      <td>North Carolina</td>\n",
       "      <td>NC</td>\n",
       "      <td>22698.0</td>\n",
       "      <td>1.0</td>\n",
       "      <td>101.0</td>\n",
       "      <td>4.0</td>\n",
       "      <td>444.0</td>\n",
       "      <td>...</td>\n",
       "      <td>0.809</td>\n",
       "      <td>0.002</td>\n",
       "      <td>0.007</td>\n",
       "      <td>0.329</td>\n",
       "      <td>0.038</td>\n",
       "      <td>0.002</td>\n",
       "      <td>0.612</td>\n",
       "      <td>0.000</td>\n",
       "      <td>0.010</td>\n",
       "      <td>0.378</td>\n",
       "    </tr>\n",
       "    <tr>\n",
       "      <th>3136</th>\n",
       "      <td>All</td>\n",
       "      <td>51053</td>\n",
       "      <td>Dinwiddie</td>\n",
       "      <td>Virginia</td>\n",
       "      <td>VA</td>\n",
       "      <td>28529.0</td>\n",
       "      <td>0.0</td>\n",
       "      <td>101.0</td>\n",
       "      <td>0.0</td>\n",
       "      <td>354.0</td>\n",
       "      <td>...</td>\n",
       "      <td>0.521</td>\n",
       "      <td>0.000</td>\n",
       "      <td>0.007</td>\n",
       "      <td>0.320</td>\n",
       "      <td>0.034</td>\n",
       "      <td>0.001</td>\n",
       "      <td>0.618</td>\n",
       "      <td>0.005</td>\n",
       "      <td>0.014</td>\n",
       "      <td>0.362</td>\n",
       "    </tr>\n",
       "    <tr>\n",
       "      <th>3137</th>\n",
       "      <td>All</td>\n",
       "      <td>51137</td>\n",
       "      <td>Orange</td>\n",
       "      <td>Virginia</td>\n",
       "      <td>VA</td>\n",
       "      <td>36644.0</td>\n",
       "      <td>2.0</td>\n",
       "      <td>119.0</td>\n",
       "      <td>5.0</td>\n",
       "      <td>324.0</td>\n",
       "      <td>...</td>\n",
       "      <td>0.420</td>\n",
       "      <td>0.003</td>\n",
       "      <td>0.010</td>\n",
       "      <td>0.124</td>\n",
       "      <td>0.048</td>\n",
       "      <td>0.000</td>\n",
       "      <td>0.785</td>\n",
       "      <td>0.003</td>\n",
       "      <td>0.029</td>\n",
       "      <td>0.184</td>\n",
       "    </tr>\n",
       "  </tbody>\n",
       "</table>\n",
       "<p>3138 rows × 69 columns</p>\n",
       "</div>"
      ],
      "text/plain": [
       "     Insurance Type (Relevant for Clinical Data from Claims Only)  \\\n",
       "0                                                   All             \n",
       "1                                                   All             \n",
       "2                                                   All             \n",
       "3                                                   All             \n",
       "4                                                   All             \n",
       "...                                                 ...             \n",
       "3133                                                All             \n",
       "3134                                                All             \n",
       "3135                                                All             \n",
       "3136                                                All             \n",
       "3137                                                All             \n",
       "\n",
       "      FIPS County Code             County           State State Code  \\\n",
       "0                49055              Wayne            Utah         UT   \n",
       "1                21091            Hancock        Kentucky         KY   \n",
       "2                27077  Lake of the Woods       Minnesota         MN   \n",
       "3                19129              Mills            Iowa         IA   \n",
       "4                49033               Rich            Utah         UT   \n",
       "...                ...                ...             ...        ...   \n",
       "3133             22007  Assumption Parish       Louisiana         LA   \n",
       "3134             27093             Meeker       Minnesota         MN   \n",
       "3135             37033            Caswell  North Carolina         NC   \n",
       "3136             51053          Dinwiddie        Virginia         VA   \n",
       "3137             51137             Orange        Virginia         VA   \n",
       "\n",
       "      Population  Deaths from COVID-19  Cases of COVID-19  \\\n",
       "0         2690.0                   0.0                0.0   \n",
       "1         8758.0                   0.0                7.0   \n",
       "2         3758.0                   0.0                0.0   \n",
       "3        15063.0                   0.0               22.0   \n",
       "4         2464.0                   0.0                0.0   \n",
       "...          ...                   ...                ...   \n",
       "3133     22300.0                  14.0              258.0   \n",
       "3134     23141.0                   1.0               50.0   \n",
       "3135     22698.0                   1.0              101.0   \n",
       "3136     28529.0                   0.0              101.0   \n",
       "3137     36644.0                   2.0              119.0   \n",
       "\n",
       "      Deaths from Covid 19 Per 100K Population  \\\n",
       "0                                          0.0   \n",
       "1                                          0.0   \n",
       "2                                          0.0   \n",
       "3                                          0.0   \n",
       "4                                          0.0   \n",
       "...                                        ...   \n",
       "3133                                      62.0   \n",
       "3134                                       4.0   \n",
       "3135                                       4.0   \n",
       "3136                                       0.0   \n",
       "3137                                       5.0   \n",
       "\n",
       "      Cases of Covid 19 Per 100K Population  ...  \\\n",
       "0                                       0.0  ...   \n",
       "1                                      79.0  ...   \n",
       "2                                       0.0  ...   \n",
       "3                                     146.0  ...   \n",
       "4                                       0.0  ...   \n",
       "...                                     ...  ...   \n",
       "3133                                 1156.0  ...   \n",
       "3134                                  216.0  ...   \n",
       "3135                                  444.0  ...   \n",
       "3136                                  354.0  ...   \n",
       "3137                                  324.0  ...   \n",
       "\n",
       "      Children on Free or Reduced Lunch  American Indian or Alaska Native  \\\n",
       "0                                 0.500                             0.003   \n",
       "1                                 0.510                             0.001   \n",
       "2                                 0.532                             0.003   \n",
       "3                                 0.347                             0.007   \n",
       "4                                 0.396                             0.000   \n",
       "...                                 ...                               ...   \n",
       "3133                              0.681                             0.004   \n",
       "3134                              0.370                             0.001   \n",
       "3135                              0.809                             0.002   \n",
       "3136                              0.521                             0.000   \n",
       "3137                              0.420                             0.003   \n",
       "\n",
       "      Asian  Black or African American  Hispanic  \\\n",
       "0     0.005                      0.003     0.059   \n",
       "1     0.007                      0.009     0.015   \n",
       "2     0.008                      0.000     0.017   \n",
       "3     0.003                      0.009     0.030   \n",
       "4     0.000                      0.000     0.109   \n",
       "...     ...                        ...       ...   \n",
       "3133  0.002                      0.299     0.029   \n",
       "3134  0.003                      0.006     0.038   \n",
       "3135  0.007                      0.329     0.038   \n",
       "3136  0.007                      0.320     0.034   \n",
       "3137  0.010                      0.124     0.048   \n",
       "\n",
       "      Native Hawaiian or Other Pacific Islander  Non-Hispanic White  \\\n",
       "0                                         0.013               0.912   \n",
       "1                                         0.000               0.956   \n",
       "2                                         0.000               0.930   \n",
       "3                                         0.000               0.943   \n",
       "4                                         0.000               0.865   \n",
       "...                                         ...                 ...   \n",
       "3133                                      0.000               0.656   \n",
       "3134                                      0.000               0.942   \n",
       "3135                                      0.002               0.612   \n",
       "3136                                      0.001               0.618   \n",
       "3137                                      0.000               0.785   \n",
       "\n",
       "      Other race  2 or more races  Racial / Ethnic Minority  \n",
       "0          0.000            0.006                     0.083  \n",
       "1          0.000            0.011                     0.033  \n",
       "2          0.000            0.041                     0.028  \n",
       "3          0.000            0.008                     0.049  \n",
       "4          0.026            0.000                     0.109  \n",
       "...          ...              ...                       ...  \n",
       "3133       0.000            0.011                     0.333  \n",
       "3134       0.001            0.010                     0.048  \n",
       "3135       0.000            0.010                     0.378  \n",
       "3136       0.005            0.014                     0.362  \n",
       "3137       0.003            0.029                     0.184  \n",
       "\n",
       "[3138 rows x 69 columns]"
      ]
     },
     "execution_count": 2,
     "metadata": {},
     "output_type": "execute_result"
    }
   ],
   "source": [
    "covid_19_master = catalog.load(f\"mod_covid_19_{granularity.value}_master\")\n",
    "covid_19_master"
   ]
  },
  {
   "cell_type": "code",
   "execution_count": 3,
   "metadata": {
    "scrolled": true
   },
   "outputs": [
    {
     "name": "stdout",
     "output_type": "stream",
     "text": [
      "Center for Societal Benefit through Healthcare, McKinsey & Company. Vulnerable Populations Dashboard. https://csbh-dashboard.mckinsey.digital/#/. Accessed on 2020-06-13.\n"
     ]
    }
   ],
   "source": [
    "from datetime import datetime\n",
    "\n",
    "from kedro.io.core import VERSION_FORMAT\n",
    "\n",
    "last_load_version = datetime.strptime(\n",
    "    getattr(\n",
    "        catalog.datasets, f\"raw_csbh_{granularity.value}_data\"\n",
    "    ).resolve_load_version(),\n",
    "    VERSION_FORMAT,\n",
    ")\n",
    "print(\n",
    "    \"Center for Societal Benefit through Healthcare, McKinsey & Company. \"\n",
    "    \"Vulnerable Populations Dashboard. https://csbh-dashboard.mckinsey.digital/#/. \"\n",
    "    f\"Accessed on {last_load_version.date()}.\"\n",
    ")"
   ]
  },
  {
   "cell_type": "code",
   "execution_count": null,
   "metadata": {},
   "outputs": [],
   "source": []
  },
  {
   "cell_type": "markdown",
   "metadata": {},
   "source": [
    "# Plot a diagonal correlation matrix\n",
    "\n",
    "Adapted from https://seaborn.pydata.org/examples/many_pairwise_correlations.html."
   ]
  },
  {
   "cell_type": "code",
   "execution_count": null,
   "metadata": {
    "scrolled": true
   },
   "outputs": [
    {
     "data": {
      "text/plain": [
       "<matplotlib.axes._subplots.AxesSubplot at 0x126d12820>"
      ]
     },
     "execution_count": 4,
     "metadata": {},
     "output_type": "execute_result"
    }
   ],
   "source": [
    "import numpy as np\n",
    "import seaborn as sns\n",
    "import matplotlib.pyplot as plt\n",
    "\n",
    "sns.set(style=\"white\")\n",
    "\n",
    "# Compute the correlation matrix\n",
    "corr = covid_19_master.corr()\n",
    "\n",
    "# Generate a mask for the upper triangle\n",
    "mask = np.triu(np.ones_like(corr, dtype=np.bool))\n",
    "\n",
    "# Set up the matplotlib figure\n",
    "f, ax = plt.subplots(figsize=(22, 18))\n",
    "\n",
    "# Generate a custom diverging colormap\n",
    "cmap = sns.diverging_palette(220, 10, as_cmap=True)\n",
    "\n",
    "# Draw the heatmap with the mask and correct aspect ratio\n",
    "sns.heatmap(corr, mask=mask, cmap=cmap, center=0,\n",
    "            square=True, linewidths=.5, cbar_kws={\"shrink\": .5})"
   ]
  },
  {
   "cell_type": "code",
   "execution_count": null,
   "metadata": {},
   "outputs": [],
   "source": []
  },
  {
   "cell_type": "markdown",
   "metadata": {},
   "source": [
    "# Split master table into feature matrix and selected target array"
   ]
  },
  {
   "cell_type": "code",
   "execution_count": null,
   "metadata": {},
   "outputs": [],
   "source": [
    "from enum import Enum\n",
    "\n",
    "\n",
    "class Target(Enum):\n",
    "    DEATHS = \"Deaths from Covid 19 Per 100K Population\"\n",
    "    CASES = \"Cases of Covid 19 Per 100K Population\""
   ]
  },
  {
   "cell_type": "code",
   "execution_count": null,
   "metadata": {},
   "outputs": [],
   "source": [
    "X = covid_19_master.loc[:, \"Age 60+\":]\n",
    "y = covid_19_master[Target.CASES.value]\n",
    "display(X, y)"
   ]
  },
  {
   "cell_type": "code",
   "execution_count": null,
   "metadata": {},
   "outputs": [],
   "source": []
  },
  {
   "cell_type": "markdown",
   "metadata": {},
   "source": [
    "# Visualize feature importances\n",
    "\n",
    "Adapted from https://github.com/slundberg/shap#tree-ensemble-example-with-treeexplainer-xgboostlightgbmcatboostscikit-learnpyspark-models."
   ]
  },
  {
   "cell_type": "code",
   "execution_count": null,
   "metadata": {},
   "outputs": [],
   "source": [
    "import xgboost\n",
    "import shap\n",
    "\n",
    "# load JS visualization code to notebook\n",
    "shap.initjs()\n",
    "\n",
    "# train XGBoost model\n",
    "model = xgboost.train({\"learning_rate\": 0.01}, xgboost.DMatrix(X, label=y), 100)\n",
    "\n",
    "# explain the model's predictions using SHAP\n",
    "# (same syntax works for LightGBM, CatBoost, scikit-learn and spark models)\n",
    "explainer = shap.TreeExplainer(model)\n",
    "shap_values = explainer.shap_values(X)\n",
    "\n",
    "# visualize the first prediction's explanation (use matplotlib=True to avoid Javascript)\n",
    "shap.force_plot(explainer.expected_value, shap_values[0,:], X.iloc[0,:])"
   ]
  },
  {
   "cell_type": "code",
   "execution_count": null,
   "metadata": {
    "scrolled": true
   },
   "outputs": [],
   "source": [
    "# summarize the effects of all the features\n",
    "shap.summary_plot(shap_values, X)"
   ]
  },
  {
   "cell_type": "code",
   "execution_count": null,
   "metadata": {
    "scrolled": true
   },
   "outputs": [],
   "source": [
    "shap.summary_plot(shap_values, X, plot_type=\"bar\")"
   ]
  },
  {
   "cell_type": "code",
   "execution_count": null,
   "metadata": {},
   "outputs": [],
   "source": []
  },
  {
   "cell_type": "markdown",
   "metadata": {},
   "source": [
    "# Print and plot evaluation metrics (before feature selection)"
   ]
  },
  {
   "cell_type": "code",
   "execution_count": null,
   "metadata": {},
   "outputs": [],
   "source": [
    "eval_result = xgboost.cv({\"learning_rate\": 0.01}, xgboost.DMatrix(X, label=y), 1000,\n",
    "                         callbacks=[xgboost.callback.print_evaluation(show_stdv=True)])\n",
    "eval_result.loc[eval_result[\"test-rmse-mean\"].idxmin()]"
   ]
  },
  {
   "cell_type": "code",
   "execution_count": null,
   "metadata": {},
   "outputs": [],
   "source": [
    "eval_result.plot(y=[\"train-rmse-mean\", \"test-rmse-mean\"])"
   ]
  },
  {
   "cell_type": "code",
   "execution_count": null,
   "metadata": {},
   "outputs": [],
   "source": []
  },
  {
   "cell_type": "markdown",
   "metadata": {},
   "source": [
    "# Engineer and eliminate features"
   ]
  },
  {
   "cell_type": "markdown",
   "metadata": {},
   "source": [
    "### Age"
   ]
  },
  {
   "cell_type": "code",
   "execution_count": null,
   "metadata": {
    "scrolled": true
   },
   "outputs": [],
   "source": [
    "X[\"Age 60+\"] -= X[\"Age 70+\"]\n",
    "X[\"Age 70+\"] -= X[\"Age 80+\"]\n",
    "X.rename(columns={\"Age 60+\": \"Age 60-69\", \"Age 70+\": \"Age 70-79\"}, inplace=True)"
   ]
  },
  {
   "cell_type": "code",
   "execution_count": null,
   "metadata": {},
   "outputs": [],
   "source": []
  },
  {
   "cell_type": "markdown",
   "metadata": {},
   "source": [
    "### Chronic Conditions"
   ]
  },
  {
   "cell_type": "code",
   "execution_count": null,
   "metadata": {},
   "outputs": [],
   "source": [
    "# Subset the correlation matrix\n",
    "chronic_conditions_corr = covid_19_master.corr().loc[\n",
    "    \"Asthma\":\"Any COVID-19-Relevant Chronic Condition\",\n",
    "    \"Asthma\":\"Any COVID-19-Relevant Chronic Condition\",\n",
    "]\n",
    "\n",
    "# Generate a mask for the upper triangle\n",
    "mask = np.triu(np.ones_like(chronic_conditions_corr, dtype=np.bool))\n",
    "\n",
    "# Set up the matplotlib figure\n",
    "f, ax = plt.subplots(figsize=(11, 9))\n",
    "\n",
    "# Generate a custom diverging colormap\n",
    "cmap = sns.diverging_palette(220, 10, as_cmap=True)\n",
    "\n",
    "# Draw the heatmap with the mask and correct aspect ratio\n",
    "sns.heatmap(chronic_conditions_corr, mask=mask, cmap=cmap, center=0, annot=True,\n",
    "            square=True, linewidths=.5, cbar_kws={\"shrink\": .5})"
   ]
  },
  {
   "cell_type": "code",
   "execution_count": null,
   "metadata": {},
   "outputs": [],
   "source": [
    "X.drop(\n",
    "    columns=[\n",
    "        colname\n",
    "        for colname in X.loc[\"Asthma\":\"Any COVID-19-Relevant Chronic Condition\"].columns\n",
    "        if colname in [\"Obesity\", \"Any COVID-19-Relevant Chronic Condition\"]\n",
    "    ],\n",
    "    inplace=True,\n",
    ")"
   ]
  },
  {
   "cell_type": "code",
   "execution_count": null,
   "metadata": {},
   "outputs": [],
   "source": []
  },
  {
   "cell_type": "markdown",
   "metadata": {},
   "source": [
    "### Behavioral Health"
   ]
  },
  {
   "cell_type": "code",
   "execution_count": null,
   "metadata": {},
   "outputs": [],
   "source": [
    "# Subset the correlation matrix\n",
    "behavioral_health_corr = covid_19_master.corr().loc[\n",
    "    \"Anxiety\":\"Behavioral Health High Needs\",\n",
    "    \"Anxiety\":\"Behavioral Health High Needs\",\n",
    "]\n",
    "\n",
    "# Generate a mask for the upper triangle\n",
    "mask = np.triu(np.ones_like(behavioral_health_corr, dtype=np.bool))\n",
    "\n",
    "# Set up the matplotlib figure\n",
    "f, ax = plt.subplots(figsize=(11, 9))\n",
    "\n",
    "# Generate a custom diverging colormap\n",
    "cmap = sns.diverging_palette(220, 10, as_cmap=True)\n",
    "\n",
    "# Draw the heatmap with the mask and correct aspect ratio\n",
    "sns.heatmap(behavioral_health_corr, mask=mask, cmap=cmap, center=0, annot=True,\n",
    "            square=True, linewidths=.5, cbar_kws={\"shrink\": .5})"
   ]
  },
  {
   "cell_type": "code",
   "execution_count": null,
   "metadata": {},
   "outputs": [],
   "source": [
    "X.drop(columns=\"Any Behavioral Health Condition\", inplace=True)"
   ]
  },
  {
   "cell_type": "code",
   "execution_count": null,
   "metadata": {},
   "outputs": [],
   "source": []
  },
  {
   "cell_type": "markdown",
   "metadata": {},
   "source": [
    "### Healthcare Supply"
   ]
  },
  {
   "cell_type": "code",
   "execution_count": null,
   "metadata": {},
   "outputs": [],
   "source": [
    "# Subset the correlation matrix\n",
    "healthcare_supply_corr = covid_19_master.corr().loc[\n",
    "    \"Acute Hospital Beds per 100k Population\":\"Psychologists per 100k Population\",\n",
    "    \"Acute Hospital Beds per 100k Population\":\"Psychologists per 100k Population\",\n",
    "]\n",
    "\n",
    "# Generate a mask for the upper triangle\n",
    "mask = np.triu(np.ones_like(healthcare_supply_corr, dtype=np.bool))\n",
    "\n",
    "# Set up the matplotlib figure\n",
    "f, ax = plt.subplots(figsize=(11, 9))\n",
    "\n",
    "# Generate a custom diverging colormap\n",
    "cmap = sns.diverging_palette(220, 10, as_cmap=True)\n",
    "\n",
    "# Draw the heatmap with the mask and correct aspect ratio\n",
    "sns.heatmap(healthcare_supply_corr, mask=mask, cmap=cmap, center=0, annot=True,\n",
    "            square=True, linewidths=.5, cbar_kws={\"shrink\": .5})"
   ]
  },
  {
   "cell_type": "code",
   "execution_count": null,
   "metadata": {},
   "outputs": [],
   "source": [
    "X[\"Primary Care Providers per 100k Population\"] -= X[\n",
    "    \"Primary Care Physicians per 100k Population\"\n",
    "]\n",
    "X.rename(\n",
    "    columns={\n",
    "        \"Primary Care Providers per 100k Population\": \"Primary Care Mid-Level Providers per 100k Population\"\n",
    "    },\n",
    "    inplace=True,\n",
    ")"
   ]
  },
  {
   "cell_type": "code",
   "execution_count": null,
   "metadata": {},
   "outputs": [],
   "source": []
  },
  {
   "cell_type": "markdown",
   "metadata": {},
   "source": [
    "### Social / Community Factors"
   ]
  },
  {
   "cell_type": "code",
   "execution_count": null,
   "metadata": {},
   "outputs": [],
   "source": [
    "# Subset the correlation matrix\n",
    "social_community_factors_corr = covid_19_master.corr().loc[\n",
    "    \"Population Density\":, \"Population Density\":\n",
    "]\n",
    "\n",
    "# Generate a mask for the upper triangle\n",
    "mask = np.triu(np.ones_like(social_community_factors_corr, dtype=np.bool))\n",
    "\n",
    "# Set up the matplotlib figure\n",
    "f, ax = plt.subplots(figsize=(22, 18))\n",
    "\n",
    "# Generate a custom diverging colormap\n",
    "cmap = sns.diverging_palette(220, 10, as_cmap=True)\n",
    "\n",
    "# Draw the heatmap with the mask and correct aspect ratio\n",
    "sns.heatmap(social_community_factors_corr, mask=mask, cmap=cmap, center=0, annot=True,\n",
    "            square=True, linewidths=.5, cbar_kws={\"shrink\": .5})"
   ]
  },
  {
   "cell_type": "code",
   "execution_count": null,
   "metadata": {},
   "outputs": [],
   "source": [
    "X[\"Poverty Rate\"] -= X[\"Below 50% Federal Poverty Level\"]\n",
    "X.rename(\n",
    "    columns={\"Poverty Rate\": \"50-100% Federal Poverty Level\"}, inplace=True,\n",
    ")"
   ]
  },
  {
   "cell_type": "code",
   "execution_count": null,
   "metadata": {},
   "outputs": [],
   "source": [
    "X.drop(\n",
    "    columns=[\"SNAP Benefits\", \"Food Insecurity\", \"Children on Free or Reduced Lunch\"],\n",
    "    inplace=True,\n",
    ")"
   ]
  },
  {
   "cell_type": "code",
   "execution_count": null,
   "metadata": {},
   "outputs": [],
   "source": [
    "X.drop(columns=\"Racial / Ethnic Minority\", inplace=True)"
   ]
  },
  {
   "cell_type": "code",
   "execution_count": null,
   "metadata": {},
   "outputs": [],
   "source": []
  },
  {
   "cell_type": "markdown",
   "metadata": {},
   "source": [
    "# Visualize feature importances (again!)"
   ]
  },
  {
   "cell_type": "code",
   "execution_count": null,
   "metadata": {},
   "outputs": [],
   "source": [
    "import xgboost\n",
    "import shap\n",
    "\n",
    "# load JS visualization code to notebook\n",
    "shap.initjs()\n",
    "\n",
    "# train XGBoost model\n",
    "model = xgboost.train({\"learning_rate\": 0.01}, xgboost.DMatrix(X, label=y), 100)\n",
    "\n",
    "# explain the model's predictions using SHAP\n",
    "# (same syntax works for LightGBM, CatBoost, scikit-learn and spark models)\n",
    "explainer = shap.TreeExplainer(model)\n",
    "shap_values = explainer.shap_values(X)\n",
    "\n",
    "# visualize the first prediction's explanation (use matplotlib=True to avoid Javascript)\n",
    "shap.force_plot(explainer.expected_value, shap_values[0,:], X.iloc[0,:])"
   ]
  },
  {
   "cell_type": "code",
   "execution_count": null,
   "metadata": {},
   "outputs": [],
   "source": [
    "# summarize the effects of all the features\n",
    "shap.summary_plot(shap_values, X)"
   ]
  },
  {
   "cell_type": "code",
   "execution_count": null,
   "metadata": {
    "scrolled": true
   },
   "outputs": [],
   "source": [
    "shap.summary_plot(shap_values, X, plot_type=\"bar\")"
   ]
  },
  {
   "cell_type": "code",
   "execution_count": null,
   "metadata": {},
   "outputs": [],
   "source": []
  },
  {
   "cell_type": "markdown",
   "metadata": {},
   "source": [
    "# Print and plot evaluation metrics (after feature selection)"
   ]
  },
  {
   "cell_type": "code",
   "execution_count": null,
   "metadata": {},
   "outputs": [],
   "source": [
    "eval_result = xgboost.cv({\"learning_rate\": 0.01}, xgboost.DMatrix(X, label=y), 1000,\n",
    "                         callbacks=[xgboost.callback.print_evaluation(show_stdv=True)])\n",
    "eval_result.loc[eval_result[\"test-rmse-mean\"].idxmin()]"
   ]
  },
  {
   "cell_type": "code",
   "execution_count": null,
   "metadata": {},
   "outputs": [],
   "source": [
    "eval_result.plot(y=[\"train-rmse-mean\", \"test-rmse-mean\"])"
   ]
  }
 ],
 "metadata": {
  "kernelspec": {
   "display_name": "VulnerablePopulations",
   "language": "python",
   "name": "python3"
  },
  "language_info": {
   "codemirror_mode": {
    "name": "ipython",
    "version": 3
   },
   "file_extension": ".py",
   "mimetype": "text/x-python",
   "name": "python",
   "nbconvert_exporter": "python",
   "pygments_lexer": "ipython3",
   "version": "3.8.3"
  }
 },
 "nbformat": 4,
 "nbformat_minor": 4
}
